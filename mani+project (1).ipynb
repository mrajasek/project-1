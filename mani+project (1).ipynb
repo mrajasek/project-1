{
 "cells": [
  {
   "cell_type": "markdown",
   "metadata": {},
   "source": [
    "# Mid- Term Project\n"
   ]
  },
  {
   "cell_type": "markdown",
   "metadata": {},
   "source": [
    "Q1: Introduction to ECG and EEG signal\n",
    "\n",
    "Ans: ECG signal (Electrocardiography):\n",
    "              Reporting the electrical activity from heart over a period of time using electrodes placed on human skin. These electrodes observe microscopic electrical changes on the skin that araise from heart muscle's electrophysiological pattern of depolarizing and repolarizing during each heart beat.Electrical waves will travel through limited areas of the heart. Muscular cell in the heart contracts when electrical signal is recieved. These changes can be detected in electrical environment around the cell as micro voltage. Graphing the voltage as function of time monitors the pumping of heart. Normal rhythms produces four entities they are P-waves, QRS complex, T waves, U wave. It is used to detect heart attack, shortness of heart.\n",
    "     EEG(electroencephalogram) detects the electrical activity in brain using electrodes attached to the scalp. Brain cells communicate through electrical impulses and active all the time. EEG determines the voltage change by ironic current within the neurons of the brain. These signals are generally identifies as delta, theta, gamma based on signal frequency range from 0.1HZ to 100HZ. Main application of EEG is diagnostic test for epliepsy.\n"
   ]
  },
  {
   "cell_type": "markdown",
   "metadata": {},
   "source": [
    "Q2: Opens the provided ECG signal (aami3a.dat) and plots it. This single contains one ECG signal\n",
    "sampled at 720Hz with 12-bit resolution."
   ]
  },
  {
   "cell_type": "code",
   "execution_count": null,
   "metadata": {},
   "outputs": [],
   "source": [
    "# NOTE: IF YOU ARE EXECUTING FOR THE FIRST TIME RUN\n",
    "%matplotlib inline\n",
    "\n",
    "#Importing different packages to do math, lineal algebra, numerical operations, array operations and plotting\n",
    "import scipy as Sci\n",
    "import scipy.linalg\n",
    "import numpy as np\n",
    "import pylab as pl\n",
    "from pylab import plot\n",
    "import matplotlib.pyplot as plt\n",
    "signal=np.fromfile(f,count=-1,dtype=np.uint16)\n",
    "print \"Number of Samples : %d\"%num_samples\n",
    "x=np.arange(0,1/72e1,1/72e1)  #start,stop,step\n",
    "plt.plot(x,signal[:num_samples])\n",
    "\n",
    "#Giving a title and X,Y axes labels to the plot\n",
    "plt.title('plot 1')\n",
    "plt.xlabel('Time')\n",
    "plt.ylabel('Apmlitde')\n",
    "\n",
    "plt.ticklabel_format(style='sci', axis='x', scilimits=(0,0))\n",
    "\n",
    "f.close() #close the file"
   ]
  },
  {
   "cell_type": "markdown",
   "metadata": {},
   "source": [
    "Q3: If a person at rest has an average heart rate between 60 and 100 beats per minute, how many\n",
    "samples should you plot to obtain 5 beats in the signal?\n",
    "\n",
    "Ans: 35000 samples"
   ]
  },
  {
   "cell_type": "markdown",
   "metadata": {},
   "source": [
    "Q4: Plot a zoom-in of the signal where 5 cardiac cycles can be observed considering this person\n",
    "has a cardiac cycle of 60 beats/minute.\n",
    "\n",
    "Explanation:\n"
   ]
  },
  {
   "cell_type": "markdown",
   "metadata": {},
   "source": [
    "Q4: Considering that an ECG typical signal has the following shape: Was the heart rate lower or higher for this individual?\n",
    "\n",
    "Ans:The heart rate is lower for the individual. \n",
    "\n",
    "\n",
    "\n"
   ]
  },
  {
   "cell_type": "markdown",
   "metadata": {},
   "source": [
    "Q5: Estimate the heart rate of this individual in beats/minute\n",
    "\n",
    "Ans: 25beats\n",
    "\n",
    "\n",
    "\n"
   ]
  },
  {
   "cell_type": "markdown",
   "metadata": {},
   "source": [
    "Q6: Obtain the DFT of the signal and plot the full spectrum"
   ]
  },
  {
   "cell_type": "code",
   "execution_count": null,
   "metadata": {},
   "outputs": [],
   "source": [
    "#Removing the dc component from the signal (if any)\n",
    "ecg_signal=signal-np.mean(signal)\n",
    "ecgsignal=len(signal)\n",
    "average = 720/2\n",
    "print\"temp %d\"%temp\n",
    "f=np.arange(0,avg_freq,step)\n",
    "Y=np.fft.fft(ecg)\n",
    "mean_val =abs(Y)/ecg signal\n",
    "plt.plot(f, mean_val[:int(temp)])\n",
    "plt.title('transform of signal')\n",
    "plt.ticklabel_format(style='sci', axis='x', scilimits=(0,0))"
   ]
  },
  {
   "cell_type": "markdown",
   "metadata": {
    "collapsed": true
   },
   "source": [
    "Q7: Obtain the frequency at which the maximum is observed\n",
    "Ans: From the DFT plot it is seen that a maximum is observerd on the highest frequency domain\n"
   ]
  },
  {
   "cell_type": "code",
   "execution_count": null,
   "metadata": {},
   "outputs": [],
   "source": [
    "\n",
    "f=np.arange(0,25,1)\n",
    "plt.title('signal frequency')\n",
    "plt.grid(which='both', axis='both')\n",
    "plt.margins(0, 1)\n",
    "plt.ticklabel_format(style='sci', axis='x', scilimits=(0,0))"
   ]
  },
  {
   "cell_type": "markdown",
   "metadata": {},
   "source": [
    "Q8: From the spectrum, what is your calculation for the heart rate in beats/minute\n",
    "\n",
    "Ans: 25 beats\n"
   ]
  },
  {
   "cell_type": "markdown",
   "metadata": {},
   "source": [
    "Q9: Discuss in the Markdown the peaks observed in the spectrum and what information they\n",
    "provide, in particular, explain how can you obtain from the frequency peaks the heart rate\n",
    "\n",
    "Ans: The peaks obtained in the ecg signal on the highest frequency range at which the signal passes through\n"
   ]
  },
  {
   "cell_type": "markdown",
   "metadata": {},
   "source": [
    "Q10: Discuss in the markdown: if you needed to filter this signal (it is quite clean here), would it\n",
    "be a problem to affect the amplitude of the signal? Use references to justify your answer\n",
    "\n",
    "Ans: Filtering the signal with a low pass filter of cutoff frequency 100 HZ does not change anything on the filtered signal\n"
   ]
  },
  {
   "cell_type": "markdown",
   "metadata": {},
   "source": [
    "Q11: Filter your signal using a digital low-pass Butterworth filter of order 4 that cuts frequencies\n",
    "above 100Hz\n",
    "Ans. To filter using a butterworth low pass filter of cut off frequency 100 HZ and filter the ECG signal.The sampling frequency is 720 hz and to find the nyquist frequency to sample the signal is to choose the sampling range higher than maximum signal frequency"
   ]
  },
  {
   "cell_type": "markdown",
   "metadata": {},
   "source": [
    "Q14: Discuss in the markdown the efects that your filter may have on any interpretation of the\n",
    "heart rate, did it affect it? why? why not? Explain.\n",
    "\n",
    "Ans: The filtered signal does not produce any change\n",
    "\n",
    "\n"
   ]
  },
  {
   "cell_type": "markdown",
   "metadata": {},
   "source": [
    "\n",
    "Q:The efects that your filter may have on any interpretation of the heart rate:\n",
    "\n",
    "Ans: Heart beat does not alter anything\n"
   ]
  }
 ],
 "metadata": {
  "kernelspec": {
   "display_name": "Python 2",
   "language": "python",
   "name": "python2"
  },
  "language_info": {
   "codemirror_mode": {
    "name": "ipython",
    "version": 2
   },
   "file_extension": ".py",
   "mimetype": "text/x-python",
   "name": "python",
   "nbconvert_exporter": "python",
   "pygments_lexer": "ipython2",
   "version": "2.7.13"
  }
 },
 "nbformat": 4,
 "nbformat_minor": 1
}
